{
  "nbformat": 4,
  "nbformat_minor": 0,
  "metadata": {
    "colab": {
      "provenance": []
    },
    "kernelspec": {
      "name": "python3",
      "display_name": "Python 3"
    },
    "language_info": {
      "name": "python"
    }
  },
  "cells": [
    {
      "cell_type": "code",
      "source": [
        "x=int(input(\"売値を入力してください。\"))\n",
        "n=int(input(\"支払い額を入力してください。\"))\n",
        "a=n-x\n",
        "b=a//500\n",
        "c=a%500\n",
        "d=c//100\n",
        "e=c%100\n",
        "f=e//50\n",
        "g=e%50\n",
        "h=g//10\n",
        "i=g%10\n",
        "print(\"お釣りは\",a,\"円です。\")\n",
        "print(\"500円\",b,\"枚\")\n",
        "print(\"100円\",d,\"枚\")\n",
        "print(\"50円\",f,\"枚\")\n",
        "print(\"10円\",h,\"枚\")\n",
        "print(\"残りは\",i,\"円です。\")\n"
      ],
      "metadata": {
        "id": "fs6k-HKiozuA",
        "colab": {
          "base_uri": "https://localhost:8080/"
        },
        "outputId": "b461ca00-33cb-46bb-df4b-faab18190891"
      },
      "execution_count": 13,
      "outputs": [
        {
          "output_type": "stream",
          "name": "stdout",
          "text": [
            "売値を入力してください。122\n",
            "支払い額を入力してください。1000\n",
            "お釣りは 878 円です。\n",
            "500円 1 枚\n",
            "100円 3 枚\n",
            "50円 1 枚\n",
            "10円 2 枚\n",
            "残りは 8 円です。\n"
          ]
        }
      ]
    },
    {
      "cell_type": "code",
      "source": [],
      "metadata": {
        "id": "u48ovlf4IIwW"
      },
      "execution_count": null,
      "outputs": []
    }
  ]
}